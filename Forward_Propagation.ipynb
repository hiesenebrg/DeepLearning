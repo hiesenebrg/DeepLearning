{
  "nbformat": 4,
  "nbformat_minor": 0,
  "metadata": {
    "colab": {
      "provenance": [],
      "authorship_tag": "ABX9TyOOeN5BvOuFqFaK3vmLBmxH",
      "include_colab_link": true
    },
    "kernelspec": {
      "name": "python3",
      "display_name": "Python 3"
    },
    "language_info": {
      "name": "python"
    }
  },
  "cells": [
    {
      "cell_type": "markdown",
      "metadata": {
        "id": "view-in-github",
        "colab_type": "text"
      },
      "source": [
        "<a href=\"https://colab.research.google.com/github/hiesenebrg/DeepLearning/blob/main/Forward_Propagation.ipynb\" target=\"_parent\"><img src=\"https://colab.research.google.com/assets/colab-badge.svg\" alt=\"Open In Colab\"/></a>"
      ]
    },
    {
      "cell_type": "code",
      "execution_count": null,
      "metadata": {
        "id": "ybdDPTJQjj_H"
      },
      "outputs": [],
      "source": [
        "import numpy as np"
      ]
    },
    {
      "cell_type": "code",
      "source": [
        "X = np.array([[0,0],[0,1],[1,0],[1,1]]) #this is input as x1 and x2\n",
        "Y = np.array([[0,0,0,1]]).T #this is output as y\n",
        "X.shape , Y.shape"
      ],
      "metadata": {
        "colab": {
          "base_uri": "https://localhost:8080/"
        },
        "id": "9J80dQlkjpin",
        "outputId": "36707719-5587-4b30-b0bd-d7dbd7db2343"
      },
      "execution_count": null,
      "outputs": [
        {
          "output_type": "execute_result",
          "data": {
            "text/plain": [
              "((4, 2), (4, 1))"
            ]
          },
          "metadata": {},
          "execution_count": 6
        }
      ]
    },
    {
      "cell_type": "code",
      "source": [
        "def seg(z):\n",
        "  return 1/(1+np.exp(-z))"
      ],
      "metadata": {
        "id": "YVRnfHC3km-e"
      },
      "execution_count": null,
      "outputs": []
    },
    {
      "cell_type": "code",
      "source": [
        "#no hidden layer weights\n",
        "weights = 2*np.random.random((2,1))-1\n",
        "#as we have to take range of both of the weights  from -1 to +1\n",
        "bias = 2*np.random.random(1)-1\n",
        "weights , bias"
      ],
      "metadata": {
        "colab": {
          "base_uri": "https://localhost:8080/"
        },
        "id": "GydhdCVKknBM",
        "outputId": "0afd95f3-49d9-4a28-9aa4-1906e59fbe27"
      },
      "execution_count": null,
      "outputs": [
        {
          "output_type": "execute_result",
          "data": {
            "text/plain": [
              "(array([[ 0.9323261],\n",
              "        [-0.1485848]]),\n",
              " array([0.32502766]))"
            ]
          },
          "metadata": {},
          "execution_count": 11
        }
      ]
    },
    {
      "cell_type": "code",
      "source": [
        "output0 = X\n",
        "output = seg(np.dot(output0 , weights)+bias)\n",
        "#this si the dot mtrix multiplicaion of (2,4) atrix to (1,2) weight matrix\n",
        "output"
      ],
      "metadata": {
        "colab": {
          "base_uri": "https://localhost:8080/"
        },
        "id": "w8xgCVlBknEE",
        "outputId": "e786e313-5b10-4093-ac40-7cbf2ea027f2"
      },
      "execution_count": null,
      "outputs": [
        {
          "output_type": "execute_result",
          "data": {
            "text/plain": [
              "array([[0.58054904],\n",
              "       [0.54399663],\n",
              "       [0.77857024],\n",
              "       [0.75189954]])"
            ]
          },
          "metadata": {},
          "execution_count": 14
        }
      ]
    },
    {
      "cell_type": "code",
      "source": [
        "#with hidden layers\n",
        "wh = 2*np.random.random((2,2))-1\n",
        "bh = 2*np.random.random((1,2))-1\n",
        "wo = 2*np.random.random((2,1))-1\n",
        "bo = 2*np.random.random((1,1))-1"
      ],
      "metadata": {
        "id": "KWbaiAgooncX"
      },
      "execution_count": 15,
      "outputs": []
    },
    {
      "cell_type": "code",
      "source": [
        "wh,bh,wo,bo"
      ],
      "metadata": {
        "colab": {
          "base_uri": "https://localhost:8080/"
        },
        "id": "ArbTrPzAonlJ",
        "outputId": "00b3a694-a5ea-4ff9-dd10-403faf470fc6"
      },
      "execution_count": 16,
      "outputs": [
        {
          "output_type": "execute_result",
          "data": {
            "text/plain": [
              "(array([[-0.73321851, -0.42895861],\n",
              "        [ 0.41491719,  0.55794787]]),\n",
              " array([[0.67561396, 0.98473211]]),\n",
              " array([[-0.80774452],\n",
              "        [ 0.17820321]]),\n",
              " array([[-0.18650636]]))"
            ]
          },
          "metadata": {},
          "execution_count": 16
        }
      ]
    },
    {
      "cell_type": "code",
      "source": [
        "output0 = X\n",
        "outputHidden = seg(np.dot(output0 , wh)+bh)\n",
        "#this is the dot mtrix multiplicaion of (4,2) matrix to (2,2) weight matrix of hidden layer\n",
        "output = seg(np.dot(outputHidden , wo)+bo)\n",
        "output"
      ],
      "metadata": {
        "colab": {
          "base_uri": "https://localhost:8080/"
        },
        "id": "bcqS-dSxpKcr",
        "outputId": "831b25e8-2d45-4cc9-9dbd-71f5dcff829e"
      },
      "execution_count": 17,
      "outputs": [
        {
          "output_type": "execute_result",
          "data": {
            "text/plain": [
              "array([[0.35615174],\n",
              "       [0.34428082],\n",
              "       [0.38568049],\n",
              "       [0.37107225]])"
            ]
          },
          "metadata": {},
          "execution_count": 17
        }
      ]
    }
  ]
}