{
  "nbformat": 4,
  "nbformat_minor": 0,
  "metadata": {
    "colab": {
      "provenance": [],
      "authorship_tag": "ABX9TyOZiHievXuz6bvEsUHgf775",
      "include_colab_link": true
    },
    "kernelspec": {
      "name": "python3",
      "display_name": "Python 3"
    },
    "language_info": {
      "name": "python"
    }
  },
  "cells": [
    {
      "cell_type": "markdown",
      "metadata": {
        "id": "view-in-github",
        "colab_type": "text"
      },
      "source": [
        "<a href=\"https://colab.research.google.com/github/hiesenebrg/DeepLearning/blob/main/Forward_Propagation.ipynb\" target=\"_parent\"><img src=\"https://colab.research.google.com/assets/colab-badge.svg\" alt=\"Open In Colab\"/></a>"
      ]
    },
    {
      "cell_type": "code",
      "execution_count": null,
      "metadata": {
        "id": "ybdDPTJQjj_H"
      },
      "outputs": [],
      "source": [
        "import numpy as np"
      ]
    },
    {
      "cell_type": "code",
      "source": [
        "X = np.array([[0,0],[0,1],[1,0],[1,1]]) #this is input as x1 and x2\n",
        "Y = np.array([[0,0,0,1]]).T #this is output as y\n",
        "X.shape , Y.shape"
      ],
      "metadata": {
        "colab": {
          "base_uri": "https://localhost:8080/"
        },
        "id": "9J80dQlkjpin",
        "outputId": "36707719-5587-4b30-b0bd-d7dbd7db2343"
      },
      "execution_count": null,
      "outputs": [
        {
          "output_type": "execute_result",
          "data": {
            "text/plain": [
              "((4, 2), (4, 1))"
            ]
          },
          "metadata": {},
          "execution_count": 6
        }
      ]
    },
    {
      "cell_type": "code",
      "source": [
        "def seg(z):\n",
        "  return 1/(1+np.exp(-z))"
      ],
      "metadata": {
        "id": "YVRnfHC3km-e"
      },
      "execution_count": null,
      "outputs": []
    },
    {
      "cell_type": "code",
      "source": [
        "#no hidden layer weights\n",
        "weights = 2*np.random.random((2,1))-1\n",
        "#as we have to take range of both of the weights  from -1 to +1\n",
        "bias = 2*np.random.random(1)-1\n",
        "weights , bias"
      ],
      "metadata": {
        "colab": {
          "base_uri": "https://localhost:8080/"
        },
        "id": "GydhdCVKknBM",
        "outputId": "0afd95f3-49d9-4a28-9aa4-1906e59fbe27"
      },
      "execution_count": null,
      "outputs": [
        {
          "output_type": "execute_result",
          "data": {
            "text/plain": [
              "(array([[ 0.9323261],\n",
              "        [-0.1485848]]),\n",
              " array([0.32502766]))"
            ]
          },
          "metadata": {},
          "execution_count": 11
        }
      ]
    },
    {
      "cell_type": "code",
      "source": [
        "output0 = X\n",
        "output = seg(np.dot(output0 , weights)+bias)\n",
        "#this si the dot mtrix multiplicaion of (2,4) atrix to (1,2) weight matrix\n",
        "output"
      ],
      "metadata": {
        "colab": {
          "base_uri": "https://localhost:8080/"
        },
        "id": "w8xgCVlBknEE",
        "outputId": "e786e313-5b10-4093-ac40-7cbf2ea027f2"
      },
      "execution_count": null,
      "outputs": [
        {
          "output_type": "execute_result",
          "data": {
            "text/plain": [
              "array([[0.58054904],\n",
              "       [0.54399663],\n",
              "       [0.77857024],\n",
              "       [0.75189954]])"
            ]
          },
          "metadata": {},
          "execution_count": 14
        }
      ]
    }
  ]
}